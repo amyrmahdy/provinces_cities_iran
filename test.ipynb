{
 "cells": [
  {
   "cell_type": "code",
   "execution_count": 8,
   "metadata": {},
   "outputs": [],
   "source": [
    "import json\n",
    "import requests\n",
    "import pandas as pd\n",
    "from bs4 import BeautifulSoup"
   ]
  },
  {
   "cell_type": "code",
   "execution_count": 9,
   "metadata": {},
   "outputs": [],
   "source": [
    "fa_url = \"https://fa.wikipedia.org/wiki/%D9%81%D9%87%D8%B1%D8%B3%D8%AA_%D8%B4%D9%87%D8%B1%D9%87%D8%A7%DB%8C_%D8%A7%DB%8C%D8%B1%D8%A7%D9%86\""
   ]
  },
  {
   "cell_type": "code",
   "execution_count": 10,
   "metadata": {},
   "outputs": [],
   "source": [
    "with open(\"province_city.json\", \"r\") as f:\n",
    "    province_city = json.load(f)"
   ]
  },
  {
   "cell_type": "code",
   "execution_count": 11,
   "metadata": {},
   "outputs": [],
   "source": [
    "all_cities = []\n",
    "for province in province_city:\n",
    "    cities = province[\"cities\"]\n",
    "    for city in cities:\n",
    "        all_cities.append(city[\"city-fa\"])\n"
   ]
  },
  {
   "cell_type": "code",
   "execution_count": 12,
   "metadata": {},
   "outputs": [
    {
     "data": {
      "text/plain": [
       "'کرج'"
      ]
     },
     "execution_count": 12,
     "metadata": {},
     "output_type": "execute_result"
    }
   ],
   "source": [
    "all_cities[0]"
   ]
  },
  {
   "cell_type": "code",
   "execution_count": 13,
   "metadata": {},
   "outputs": [],
   "source": [
    "\n",
    "headers = {\n",
    "    'Accept-Encoding': 'gzip, deflate, sdch',\n",
    "    'Accept-Language': 'en-US,en;q=0.8',\n",
    "    'Upgrade-Insecure-Requests': '1',\n",
    "    'User-Agent': 'Mozilla/5.0 (X11; Linux x86_64) AppleWebKit/537.36 (KHTML, like Gecko) Chrome/56.0.2924.87 Safari/537.36',\n",
    "    'Accept': 'text/html,application/xhtml+xml,application/xml;q=0.9,image/webp,*/*;q=0.8',\n",
    "    'Cache-Control': 'max-age=0',\n",
    "    'Connection': 'keep-alive',\n",
    "}\n",
    "\n",
    "en_url = '''https://wikipedia.lurkmore.com/wiki/List_of_cities_in_Iran_by_province?lang=en'''\n",
    "\n",
    "fa_html_path = '''./persian.html'''\n",
    "\n",
    "with open(fa_html_path, 'r') as f:\n",
    "    fa_html = f.read()\n",
    "\n",
    "\n",
    "result = requests.get(fa_url, headers = headers)"
   ]
  },
  {
   "cell_type": "code",
   "execution_count": 15,
   "metadata": {},
   "outputs": [],
   "source": [
    "soup = BeautifulSoup(result.content, 'html5lib')"
   ]
  },
  {
   "cell_type": "code",
   "execution_count": 46,
   "metadata": {},
   "outputs": [],
   "source": [
    "tables = soup.findAll(\"table\")[4:-18]"
   ]
  },
  {
   "cell_type": "code",
   "execution_count": 47,
   "metadata": {},
   "outputs": [
    {
     "data": {
      "text/plain": [
       "<table border=\"1\" width=\"600\">\n",
       "\n",
       "<tbody><tr>\n",
       "<td><a href=\"/wiki/%DB%8C%D8%A7%D8%B3%D9%88%D8%AC\" title=\"یاسوج\">یاسوج</a>\n",
       "</td></tr>\n",
       "<tr>\n",
       "<td><a class=\"new\" href=\"/w/index.php?title=%D8%AD%D8%B3%D9%86%E2%80%8C%D8%A2%D8%A8%D8%A7%D8%AF%DB%8C%D8%A7%D8%B3%D9%88%DA%A9%D9%86%D8%AF&amp;action=edit&amp;redlink=1\" title=\"حسن‌آبادیاسوکند (صفحه وجود ندارد)\">یاسوکند</a>\n",
       "</td></tr>\n",
       "<tr>\n",
       "<td><a href=\"/wiki/%DB%8C%D8%A7%D9%85%DA%86%DB%8C\" title=\"یامچی\">یامچی</a>\n",
       "</td></tr>\n",
       "<tr>\n",
       "<td><a href=\"/wiki/%DB%8C%D8%B2%D8%AF\" title=\"یزد\">یزد</a>\n",
       "</td></tr>\n",
       "<tr>\n",
       "<td><a class=\"mw-redirect mw-disambig\" href=\"/wiki/%DB%8C%D8%B2%D8%AF%D8%A7%D9%86%E2%80%8C%D8%B4%D9%87%D8%B1\" title=\"یزدان‌شهر\">یزدان‌شهر</a>\n",
       "</td></tr>\n",
       "<tr>\n",
       "<td><a href=\"/wiki/%DB%8C%D9%88%D9%86%D8%B3%DB%8C\" title=\"یونسی\">یونسی</a>\n",
       "</td></tr>\n",
       "<tr>\n",
       "<td><a class=\"mw-redirect\" href=\"/wiki/%DB%8C%D8%A7%D9%86_%DA%86%D8%B4%D9%85%D9%87\" title=\"یان چشمه\">یان چشمه</a>\n",
       "</td></tr>\n",
       "<tr>\n",
       "<td><a href=\"/wiki/%DB%8C%D9%88%D9%84%D8%A7%DA%AF%D9%84%D8%AF%DB%8C\" title=\"یولاگلدی\">یولاگلدی</a>\n",
       "</td></tr>\n",
       "</tbody></table>"
      ]
     },
     "execution_count": 47,
     "metadata": {},
     "output_type": "execute_result"
    }
   ],
   "source": [
    "tables[-1]"
   ]
  },
  {
   "cell_type": "code",
   "execution_count": null,
   "metadata": {},
   "outputs": [],
   "source": []
  }
 ],
 "metadata": {
  "kernelspec": {
   "display_name": "Python 3",
   "language": "python",
   "name": "python3"
  },
  "language_info": {
   "codemirror_mode": {
    "name": "ipython",
    "version": 3
   },
   "file_extension": ".py",
   "mimetype": "text/x-python",
   "name": "python",
   "nbconvert_exporter": "python",
   "pygments_lexer": "ipython3",
   "version": "3.10.6"
  },
  "orig_nbformat": 4
 },
 "nbformat": 4,
 "nbformat_minor": 2
}
